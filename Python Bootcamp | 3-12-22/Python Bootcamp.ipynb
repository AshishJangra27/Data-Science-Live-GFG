{
 "cells": [
  {
   "cell_type": "code",
   "execution_count": 12,
   "id": "4004cb9d",
   "metadata": {
    "scrolled": true
   },
   "outputs": [
    {
     "name": "stdout",
     "output_type": "stream",
     "text": [
      "hello Riyaz\n"
     ]
    }
   ],
   "source": [
    "print('hello Riyaz')"
   ]
  },
  {
   "cell_type": "code",
   "execution_count": 14,
   "id": "7710ab36",
   "metadata": {},
   "outputs": [
    {
     "name": "stdout",
     "output_type": "stream",
     "text": [
      "hello Pratyusha\n"
     ]
    }
   ],
   "source": [
    "print('hello Pratyusha')"
   ]
  },
  {
   "cell_type": "markdown",
   "id": "be846b5d",
   "metadata": {},
   "source": [
    "### 1. Data Types"
   ]
  },
  {
   "cell_type": "code",
   "execution_count": 20,
   "id": "5682bcb9",
   "metadata": {},
   "outputs": [
    {
     "data": {
      "text/plain": [
       "int"
      ]
     },
     "execution_count": 20,
     "metadata": {},
     "output_type": "execute_result"
    }
   ],
   "source": [
    "type(78)      # +1, -1,0"
   ]
  },
  {
   "cell_type": "code",
   "execution_count": 21,
   "id": "f26dd09f",
   "metadata": {},
   "outputs": [
    {
     "data": {
      "text/plain": [
       "float"
      ]
     },
     "execution_count": 21,
     "metadata": {},
     "output_type": "execute_result"
    }
   ],
   "source": [
    "type(3.14)     # 3.14"
   ]
  },
  {
   "cell_type": "code",
   "execution_count": 22,
   "id": "e5f723d2",
   "metadata": {},
   "outputs": [
    {
     "data": {
      "text/plain": [
       "str"
      ]
     },
     "execution_count": 22,
     "metadata": {},
     "output_type": "execute_result"
    }
   ],
   "source": [
    "type('Ashish') #  \"Ashish\""
   ]
  },
  {
   "cell_type": "code",
   "execution_count": 26,
   "id": "3f907a72",
   "metadata": {},
   "outputs": [
    {
     "data": {
      "text/plain": [
       "bool"
      ]
     },
     "execution_count": 26,
     "metadata": {},
     "output_type": "execute_result"
    }
   ],
   "source": [
    "type(True)"
   ]
  },
  {
   "cell_type": "markdown",
   "id": "472ee411",
   "metadata": {},
   "source": [
    "### 2. Arithematic Operations"
   ]
  },
  {
   "cell_type": "code",
   "execution_count": 50,
   "id": "612f678c",
   "metadata": {
    "scrolled": true
   },
   "outputs": [
    {
     "name": "stdout",
     "output_type": "stream",
     "text": [
      "-------INT-------\n",
      "90\n",
      "60\n",
      "1125\n",
      "5.0\n",
      "5\n",
      "0\n",
      "32768\n",
      "-------STR-------\n",
      "Ashish Ashish \n",
      "AshishJangra\n"
     ]
    }
   ],
   "source": [
    "# Int & Floats\n",
    "\n",
    "print('-------INT-------')\n",
    "print(75 + 15)    # Add\n",
    "print(75 - 15)    # Sub\n",
    "print(75 * 15)    # Mul\n",
    "print(75 / 15)    # Div\n",
    "print(75 // 15)   # Quo\n",
    "print(75 % 15)    # Mod\n",
    "print(2 ** 15)   # Pow\n",
    "\n",
    "print('-------STR-------')\n",
    "print('Ashish ' * 2)\n",
    "print('Ashish' + 'Jangra')"
   ]
  },
  {
   "cell_type": "markdown",
   "id": "e1a3e097",
   "metadata": {},
   "source": [
    "### 3. Variables"
   ]
  },
  {
   "cell_type": "code",
   "execution_count": 68,
   "id": "ea3e68ee",
   "metadata": {},
   "outputs": [
    {
     "name": "stdout",
     "output_type": "stream",
     "text": [
      "20\n",
      "-10\n",
      "75\n",
      "0.3333333333333333\n",
      "0\n",
      "5\n"
     ]
    }
   ],
   "source": [
    "a = 5\n",
    "b = 15\n",
    "\n",
    "\n",
    "print(a +  b)    # Add\n",
    "print(a -  b)    # Sub\n",
    "print(a *  b)    # Mul\n",
    "print(a /  b)    # Div\n",
    "print(a // b)    # Quo\n",
    "print(a %  b)    # Mod"
   ]
  },
  {
   "cell_type": "markdown",
   "id": "3deec31c",
   "metadata": {},
   "source": [
    "### 4. Typecasting"
   ]
  },
  {
   "cell_type": "code",
   "execution_count": 104,
   "id": "953564af",
   "metadata": {},
   "outputs": [
    {
     "name": "stdout",
     "output_type": "stream",
     "text": [
      "77\n",
      "73\n",
      "0\n",
      "3\n",
      "---\n",
      "77.0\n",
      "73.0\n",
      "1.0\n",
      "3.14\n",
      "---\n",
      "77\n",
      "73.2\n",
      "True\n",
      "---\n",
      "True\n",
      "False\n",
      "True\n"
     ]
    }
   ],
   "source": [
    "print(int(77.4))\n",
    "print(int('73'))\n",
    "print(int(False))\n",
    "print(int(float('3.14')))\n",
    "print('---')\n",
    "print(float(77))\n",
    "print(float('73'))\n",
    "print(float(True))\n",
    "print(float('3.14'))\n",
    "print('---')\n",
    "print(str(77))\n",
    "print(str(73.2))\n",
    "print(str(True))\n",
    "print('---')\n",
    "print(bool(77))\n",
    "print(bool(0.0))\n",
    "print(bool('0'))"
   ]
  },
  {
   "cell_type": "markdown",
   "id": "15e281b0",
   "metadata": {},
   "source": [
    "### 5. User Input"
   ]
  },
  {
   "cell_type": "code",
   "execution_count": 115,
   "id": "e84b1ef7",
   "metadata": {},
   "outputs": [
    {
     "name": "stdout",
     "output_type": "stream",
     "text": [
      "34 + 68 = 102\n",
      "34 - 68 = -34\n",
      "34 * 68 = 2312\n",
      "34 / 68 = 0.5\n",
      "34 // 68 = 0\n",
      "34 % 68 = 34\n"
     ]
    }
   ],
   "source": [
    "a =  34 # int(input(\"Enter first number : \"))\n",
    "b =  68 # int(input('Enter second number : '))\n",
    "\n",
    "\n",
    "print(a,'+' ,b,'=',a +  b)    # Add\n",
    "print(a,'-' ,b,'=',a -  b)    # Sub\n",
    "print(a,'*' ,b,'=',a *  b)    # Mul\n",
    "print(a,'/' ,b,'=',a /  b)    # Div\n",
    "print(a,'//',b,'=',a // b)    # Quo\n",
    "print(a,'%' ,b,'=',a %  b)    # Mod"
   ]
  },
  {
   "cell_type": "markdown",
   "id": "7eb6a6c4",
   "metadata": {},
   "source": [
    "### 6. Conditions"
   ]
  },
  {
   "cell_type": "code",
   "execution_count": 157,
   "id": "d7960446",
   "metadata": {},
   "outputs": [
    {
     "name": "stdout",
     "output_type": "stream",
     "text": [
      "Eligible for Voting\n"
     ]
    }
   ],
   "source": [
    "age = 100\n",
    "\n",
    "if ((age >= 0) and (age <= 120)):  \n",
    "    if (age >= 18):\n",
    "        print('Eligible for Voting')\n",
    "    else:\n",
    "        print('Not Eligible for Voting')\n",
    "else:\n",
    "    print('Not a valid Age')"
   ]
  },
  {
   "cell_type": "code",
   "execution_count": 169,
   "id": "8a97e2a1",
   "metadata": {},
   "outputs": [
    {
     "name": "stdout",
     "output_type": "stream",
     "text": [
      "Divisible\n"
     ]
    }
   ],
   "source": [
    "a = 30\n",
    "\n",
    "if (a%5==0) or (a%3==0):\n",
    "    print('Divisible')\n",
    "else:\n",
    "    print('Not Divisible')"
   ]
  },
  {
   "cell_type": "markdown",
   "id": "6434582d",
   "metadata": {},
   "source": [
    "### 7. For Loop"
   ]
  },
  {
   "cell_type": "code",
   "execution_count": 204,
   "id": "8b9d854c",
   "metadata": {},
   "outputs": [
    {
     "name": "stdout",
     "output_type": "stream",
     "text": [
      "19 * 1 = 19\n",
      "19 * 2 = 38\n",
      "19 * 3 = 57\n",
      "19 * 4 = 76\n",
      "19 * 5 = 95\n",
      "19 * 6 = 114\n",
      "19 * 7 = 133\n",
      "19 * 8 = 152\n",
      "19 * 9 = 171\n",
      "19 * 10 = 190\n",
      "---------------\n",
      "19 * 10 = 190\n",
      "19 * 9 = 171\n",
      "19 * 8 = 152\n",
      "19 * 7 = 133\n",
      "19 * 6 = 114\n",
      "19 * 5 = 95\n",
      "19 * 4 = 76\n",
      "19 * 3 = 57\n",
      "19 * 2 = 38\n",
      "19 * 1 = 19\n"
     ]
    }
   ],
   "source": [
    "num = 19\n",
    "\n",
    "for i in range(1,11):\n",
    "    print(num,'*',i ,'=', i * num)\n",
    "\n",
    "print('---------------')\n",
    "    \n",
    "for i in range(10,0,-1):\n",
    "    print(num,'*',i ,'=', i * num)"
   ]
  },
  {
   "cell_type": "markdown",
   "id": "26880cf1",
   "metadata": {},
   "source": [
    "### 8. Nested For Loop"
   ]
  },
  {
   "cell_type": "code",
   "execution_count": 226,
   "id": "405e8a16",
   "metadata": {},
   "outputs": [
    {
     "name": "stdout",
     "output_type": "stream",
     "text": [
      "0.16203703703703703\n"
     ]
    }
   ],
   "source": [
    "c = 0\n",
    "\n",
    "for i in range(1,7):\n",
    "    for j in range(1,7):\n",
    "        for k in range(1,7):\n",
    "            if (((i+j+k) <= 13) == 0):\n",
    "                c = c + 1\n",
    "                \n",
    "print(35/216)"
   ]
  },
  {
   "cell_type": "markdown",
   "id": "e91fac23",
   "metadata": {},
   "source": [
    "### 9. Data Structure - List"
   ]
  },
  {
   "cell_type": "code",
   "execution_count": 273,
   "id": "d55bf9d0",
   "metadata": {},
   "outputs": [],
   "source": [
    "lst = [23,76,84,65,76,84,34,54,84]"
   ]
  },
  {
   "cell_type": "code",
   "execution_count": 274,
   "id": "72a2e9f4",
   "metadata": {},
   "outputs": [
    {
     "name": "stdout",
     "output_type": "stream",
     "text": [
      "present 2\n",
      "present 5\n",
      "present 8\n"
     ]
    }
   ],
   "source": [
    "for i in range(len(lst)):\n",
    "    if (84 == lst[i]):\n",
    "        print('present', i)"
   ]
  },
  {
   "cell_type": "markdown",
   "id": "870704c0",
   "metadata": {},
   "source": [
    "### 10. Data Structure - Dictionary"
   ]
  },
  {
   "cell_type": "code",
   "execution_count": 307,
   "id": "05c23c5b",
   "metadata": {},
   "outputs": [
    {
     "name": "stdout",
     "output_type": "stream",
     "text": [
      "{2: 'Sudhir', 3: 'Ayush', 4: 'Ashish', 1: 'Rejsekhar', 5: 'Ashish'}\n"
     ]
    }
   ],
   "source": [
    "dct = {2 : 'Sudhir',\n",
    "       3 : 'Ayush',\n",
    "       4 : 'Ashish',\n",
    "       1 : 'Rejsekhar',\n",
    "       5 : 'Ashish'}\n",
    "\n",
    "print(dct)"
   ]
  },
  {
   "cell_type": "code",
   "execution_count": 305,
   "id": "d7247c0d",
   "metadata": {},
   "outputs": [
    {
     "data": {
      "text/plain": [
       "'Rejsekhar'"
      ]
     },
     "execution_count": 305,
     "metadata": {},
     "output_type": "execute_result"
    }
   ],
   "source": [
    "dct[1]"
   ]
  },
  {
   "cell_type": "code",
   "execution_count": null,
   "id": "2989d3ef",
   "metadata": {},
   "outputs": [],
   "source": [
    "['Welcome', 'to', 'GFG']"
   ]
  }
 ],
 "metadata": {
  "kernelspec": {
   "display_name": "Python 3 (ipykernel)",
   "language": "python",
   "name": "python3"
  },
  "language_info": {
   "codemirror_mode": {
    "name": "ipython",
    "version": 3
   },
   "file_extension": ".py",
   "mimetype": "text/x-python",
   "name": "python",
   "nbconvert_exporter": "python",
   "pygments_lexer": "ipython3",
   "version": "3.9.7"
  }
 },
 "nbformat": 4,
 "nbformat_minor": 5
}
