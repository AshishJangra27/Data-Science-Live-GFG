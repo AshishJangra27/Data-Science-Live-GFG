{
  "nbformat": 4,
  "nbformat_minor": 0,
  "metadata": {
    "colab": {
      "provenance": []
    },
    "kernelspec": {
      "name": "python3",
      "display_name": "Python 3"
    },
    "language_info": {
      "name": "python"
    }
  },
  "cells": [
    {
      "cell_type": "markdown",
      "source": [
        "### 1. Initialising Dictionaries"
      ],
      "metadata": {
        "id": "x1_1VlDsfn_8"
      }
    },
    {
      "cell_type": "code",
      "source": [
        "dct = {1001 : 'Ashish', 1002 : 'Ratima', 1003 : 'Treetha', 1004 : 'Alok', 1005 : 'Bhagwat'}\n",
        "\n",
        "for key in dct.keys():\n",
        "  print(key, ':' , dct[key])\n",
        "\n",
        "print('----------')"
      ],
      "metadata": {
        "colab": {
          "base_uri": "https://localhost:8080/"
        },
        "id": "_JhT03dV5EcX",
        "outputId": "40cc5bb7-3e65-4c1c-d830-810925d9cf9d"
      },
      "execution_count": 123,
      "outputs": [
        {
          "output_type": "execute_result",
          "data": {
            "text/plain": [
              "{1001: 'Ashish',\n",
              " 1002: 'Ratima',\n",
              " 1003: 'Treetha',\n",
              " 1004: 'Alok',\n",
              " 1005: 'Bhagwat'}"
            ]
          },
          "metadata": {},
          "execution_count": 123
        }
      ]
    },
    {
      "cell_type": "markdown",
      "source": [
        "### 2. Initialising Multi-Dimensional Dictionaries"
      ],
      "metadata": {
        "id": "VyyISSwT-1fM"
      }
    },
    {
      "cell_type": "code",
      "source": [
        "dct = {1001 : {'name' : 'Ashish'  , 'phone' : 4239480923, 'eng' : 67, 'hin' : 34, 'mth' : 55, 'sci' : 65},\n",
        "       1002 : {'name' : 'Ratima'  , 'phone' : 2374872934, 'eng' : 88, 'hin' : 76, 'mth' : 66, 'sci' : 87},\n",
        "       1003 : {'name' : 'Treetha' , 'phone' : 2374823849, 'eng' : 95, 'hin' : 96, 'mth' : 77, 'sci' : 78},\n",
        "       1004 : {'name' : 'Alok'    , 'phone' : 8594385034, 'eng' : 78, 'hin' : 87, 'mth' : 88, 'sci' : 99},\n",
        "       1005 : {'name' : 'Bhagwat' , 'phone' : 8534085093, 'eng' : 88, 'hin' : 79, 'mth' : 99, 'sci' : 88}}\n",
        "\n",
        "\n",
        "for key in dct.keys():\n",
        "  print('Name   :', dct[key]['name'])\n",
        "  print('Roll   :', key)\n",
        "  print('Mobile :', dct[key]['phone'])\n",
        "  print('Total  :', dct[key]['eng'] + dct[key]['hin'] + dct[key]['mth'] + dct[key]['sci'])\n",
        "  print('Perct  :', (dct[key]['eng'] + dct[key]['hin'] + dct[key]['mth'] + dct[key]['sci'])/4)\n",
        "\n",
        "  dct[key]['total'] = dct[key]['eng'] + dct[key]['hin'] + dct[key]['mth'] + dct[key]['sci']\n",
        "  dct[key]['perc']  = (dct[key]['eng'] + dct[key]['hin'] + dct[key]['mth'] + dct[key]['sci'])/4\n",
        "\n",
        "  print('------------------')\n",
        "\n",
        "  # break"
      ],
      "metadata": {
        "colab": {
          "base_uri": "https://localhost:8080/"
        },
        "id": "2wCAY7S5-1FU",
        "outputId": "b09c32f7-01dd-48dc-f769-e0dd3d93cf51"
      },
      "execution_count": 159,
      "outputs": [
        {
          "output_type": "stream",
          "name": "stdout",
          "text": [
            "Name   : Ashish\n",
            "Roll   : 1001\n",
            "Mobile : 4239480923\n",
            "Total  : 221\n",
            "Perct  : 55.25\n",
            "------------------\n",
            "Name   : Ratima\n",
            "Roll   : 1002\n",
            "Mobile : 2374872934\n",
            "Total  : 317\n",
            "Perct  : 79.25\n",
            "------------------\n",
            "Name   : Treetha\n",
            "Roll   : 1003\n",
            "Mobile : 2374823849\n",
            "Total  : 346\n",
            "Perct  : 86.5\n",
            "------------------\n",
            "Name   : Alok\n",
            "Roll   : 1004\n",
            "Mobile : 8594385034\n",
            "Total  : 352\n",
            "Perct  : 88.0\n",
            "------------------\n",
            "Name   : Bhagwat\n",
            "Roll   : 1005\n",
            "Mobile : 8534085093\n",
            "Total  : 354\n",
            "Perct  : 88.5\n",
            "------------------\n"
          ]
        }
      ]
    }
  ]
}