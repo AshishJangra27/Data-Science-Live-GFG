{
  "nbformat": 4,
  "nbformat_minor": 0,
  "metadata": {
    "colab": {
      "provenance": []
    },
    "kernelspec": {
      "name": "python3",
      "display_name": "Python 3"
    },
    "language_info": {
      "name": "python"
    }
  },
  "cells": [
    {
      "cell_type": "markdown",
      "source": [
        "### 1. Initialising Lists"
      ],
      "metadata": {
        "id": "x1_1VlDsfn_8"
      }
    },
    {
      "cell_type": "code",
      "source": [
        "name   = ['Ashish'  , 'Ritima','Treetha','Alok','Bhagwat']\n",
        "reg_no = [1001      , 1002, 1003, 1004, 1005]\n",
        "phone  = [4239480923, 2374872934, 237482384923, 8594385034, 85340850934]\n",
        "eng    = [67        , 88, 95,78 , 88]"
      ],
      "metadata": {
        "id": "fve_TqcldaqZ"
      },
      "execution_count": 46,
      "outputs": []
    },
    {
      "cell_type": "markdown",
      "source": [
        "### 2. Access the Elements\n",
        "\n",
        "##### 2.1) Direct Access"
      ],
      "metadata": {
        "id": "YDu4gfxZgU02"
      }
    },
    {
      "cell_type": "code",
      "source": [
        "print(name[1])\n",
        "print(name[-4])\n",
        "\n",
        "for i in name:\n",
        "  print(i)"
      ],
      "metadata": {
        "colab": {
          "base_uri": "https://localhost:8080/"
        },
        "id": "F05lyAwPeZYQ",
        "outputId": "8a884178-9e48-4900-ed0c-8eb64544bcd0"
      },
      "execution_count": 47,
      "outputs": [
        {
          "output_type": "stream",
          "name": "stdout",
          "text": [
            "Ritima\n",
            "Ritima\n",
            "Ashish\n",
            "Ritima\n",
            "Treetha\n",
            "Alok\n",
            "Bhagwat\n"
          ]
        }
      ]
    },
    {
      "cell_type": "markdown",
      "source": [
        "##### 2.2) Via Indexing"
      ],
      "metadata": {
        "id": "gGYjpB93hW_9"
      }
    },
    {
      "cell_type": "code",
      "source": [
        "for i in range(len(name)):\n",
        "  print(i, name[i])"
      ],
      "metadata": {
        "colab": {
          "base_uri": "https://localhost:8080/"
        },
        "id": "G-rvR7VEfTgI",
        "outputId": "e18a3169-c825-4107-cf3b-fedaf62e2334"
      },
      "execution_count": 48,
      "outputs": [
        {
          "output_type": "stream",
          "name": "stdout",
          "text": [
            "0 Ashish\n",
            "1 Ritima\n",
            "2 Treetha\n",
            "3 Alok\n",
            "4 Bhagwat\n"
          ]
        }
      ]
    },
    {
      "cell_type": "markdown",
      "source": [
        "### 3. Printing the Data of all the Users one by One"
      ],
      "metadata": {
        "id": "IqJgnms4inhx"
      }
    },
    {
      "cell_type": "code",
      "source": [
        "for i in range(len(name)):\n",
        "  print('Name   :', name[i])\n",
        "  print('Roll   :', reg_no[i])\n",
        "  print('Mobile :', phone[i])\n",
        "  print('Eng    :', eng[i])\n",
        "  print('---------------')"
      ],
      "metadata": {
        "colab": {
          "base_uri": "https://localhost:8080/"
        },
        "id": "CY9TCE2gg-xv",
        "outputId": "4e3b3294-1102-4c95-fc48-5aaac883f367"
      },
      "execution_count": 49,
      "outputs": [
        {
          "output_type": "stream",
          "name": "stdout",
          "text": [
            "Name   : Ashish\n",
            "Roll   : 1001\n",
            "Mobile : 4239480923\n",
            "Eng    : 67\n",
            "---------------\n",
            "Name   : Ritima\n",
            "Roll   : 1002\n",
            "Mobile : 2374872934\n",
            "Eng    : 88\n",
            "---------------\n",
            "Name   : Treetha\n",
            "Roll   : 1003\n",
            "Mobile : 237482384923\n",
            "Eng    : 95\n",
            "---------------\n",
            "Name   : Alok\n",
            "Roll   : 1004\n",
            "Mobile : 8594385034\n",
            "Eng    : 78\n",
            "---------------\n",
            "Name   : Bhagwat\n",
            "Roll   : 1005\n",
            "Mobile : 85340850934\n",
            "Eng    : 88\n",
            "---------------\n"
          ]
        }
      ]
    },
    {
      "cell_type": "markdown",
      "source": [
        "### 4. Writing Everything in 1 List"
      ],
      "metadata": {
        "id": "tTh4poiJjS3C"
      }
    },
    {
      "cell_type": "code",
      "source": [
        "record = [['Ashish'  , 'Ritima'  ,'Treetha'    ,'Alok'     ,'Bhagwat'],\n",
        "          [1001      , 1002      , 1003        , 1004      , 1005],\n",
        "          [4239480923, 2374872934, 237482384923, 8594385034, 85340850934],\n",
        "          [67        , 88        , 95          ,78         , 88]]\n",
        "\n",
        "record = [['Ashish' , 1001 ,42394809238,67],\n",
        "          ['Ritima' , 1002 ,32374872934,88],\n",
        "          ['Treetha', 1003 ,23748238492,95],\n",
        "          ['Alok'   , 1004 ,85943850344,78],\n",
        "          ['Bhagwat', 1005 ,85340850934,88]]\n",
        "\n",
        "for user in record:\n",
        "  print('Name   :', user[0])\n",
        "  print('Roll   :', user[1])\n",
        "  print('Mobile :', user[2])\n",
        "  print('Eng    :', user[3])\n",
        "  print('---------------')"
      ],
      "metadata": {
        "colab": {
          "base_uri": "https://localhost:8080/"
        },
        "id": "osQxVyeJjel_",
        "outputId": "cf349868-dfd8-4a74-cd1e-0586cd26c038"
      },
      "execution_count": 109,
      "outputs": [
        {
          "output_type": "stream",
          "name": "stdout",
          "text": [
            "Name   : Ashish\n",
            "Roll   : 1001\n",
            "Mobile : 42394809238\n",
            "Eng    : 67\n",
            "---------------\n",
            "Name   : Ritima\n",
            "Roll   : 1002\n",
            "Mobile : 32374872934\n",
            "Eng    : 88\n",
            "---------------\n",
            "Name   : Treetha\n",
            "Roll   : 1003\n",
            "Mobile : 23748238492\n",
            "Eng    : 95\n",
            "---------------\n",
            "Name   : Alok\n",
            "Roll   : 1004\n",
            "Mobile : 85943850344\n",
            "Eng    : 78\n",
            "---------------\n",
            "Name   : Bhagwat\n",
            "Roll   : 1005\n",
            "Mobile : 85340850934\n",
            "Eng    : 88\n",
            "---------------\n"
          ]
        }
      ]
    },
    {
      "cell_type": "code",
      "source": [
        "s = 0\n",
        "for user in record:\n",
        "  s += user[3]\n",
        "print(s/len(record))"
      ],
      "metadata": {
        "colab": {
          "base_uri": "https://localhost:8080/"
        },
        "id": "n-5r8KGfmXUk",
        "outputId": "f5d6f7cb-944d-4074-96e4-4034061f2117"
      },
      "execution_count": 113,
      "outputs": [
        {
          "output_type": "stream",
          "name": "stdout",
          "text": [
            "83.2\n"
          ]
        }
      ]
    },
    {
      "cell_type": "code",
      "source": [],
      "metadata": {
        "id": "a9ACLegVvJnS"
      },
      "execution_count": null,
      "outputs": []
    }
  ]
}