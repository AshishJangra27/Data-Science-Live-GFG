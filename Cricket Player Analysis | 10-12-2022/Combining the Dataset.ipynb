{
 "cells": [
  {
   "cell_type": "code",
   "execution_count": 56,
   "id": "9d58c882",
   "metadata": {},
   "outputs": [],
   "source": [
    "import pandas as pd\n",
    "\n",
    "df = pd.read_csv('players_record.csv')\n",
    "\n",
    "bow_paths = df.values[ : , -1 ]\n",
    "bat_paths = df.values[ : , -2 ]"
   ]
  },
  {
   "cell_type": "code",
   "execution_count": 79,
   "id": "0489332f",
   "metadata": {},
   "outputs": [],
   "source": [
    "def get_data(path, seq_len): \n",
    "    df_ = pd.read_csv(path)\n",
    "    \n",
    "    test = ['-' for _ in range(seq_len)]\n",
    "    odi  = ['-' for _ in range(seq_len)]\n",
    "    t20  = ['-' for _ in range(seq_len)]\n",
    "    ipl  = ['-' for _ in range(seq_len)]\n",
    "    \n",
    "    data = []\n",
    "    \n",
    "    for r in df_.values:    \n",
    "        if (r[0] == 'Test'):\n",
    "            test = r[1:]\n",
    "        if (r[0] == 'ODI'):\n",
    "            odi  = r[1:]\n",
    "        if (r[0] == 'T20I'):\n",
    "            t20  = r[1:]\n",
    "        if (r[0] == 'IPL'):\n",
    "            ipl  = r[1:]\n",
    "    data = combine(test,odi,t20,ipl)\n",
    "    return data\n",
    "\n",
    "\n",
    "def combine(lst1, lst2 , lst3, lst4):  \n",
    "    lst = []\n",
    "    for _ in lst1:\n",
    "        lst.append(_)\n",
    "    for _ in lst2:\n",
    "        lst.append(_)\n",
    "    for _ in lst3:\n",
    "        lst.append(_)\n",
    "    for _ in lst4:\n",
    "        lst.append(_)\n",
    "    return lst"
   ]
  },
  {
   "cell_type": "code",
   "execution_count": 92,
   "id": "d664dced",
   "metadata": {},
   "outputs": [],
   "source": [
    "col_names = []\n",
    "for i in ['Test','ODI','T20I','IPL']:\n",
    "    for j in pd.read_csv('Scores/bow_1413.csv').columns[1:]:\n",
    "        col_names.append('Bal_'  + i + '_' + j)\n",
    "\n",
    "bow_data = []\n",
    "for bow_path in bow_paths:  \n",
    "    bow_data.append(get_data(bow_path, 12))\n",
    "    \n",
    "df_bow = pd.DataFrame(bow_data, columns = col_names)\n",
    "df_bow.to_csv('Ball_Career.csv', index = False)"
   ]
  },
  {
   "cell_type": "markdown",
   "id": "0b74db20",
   "metadata": {},
   "source": [
    "### 2. Batting Data"
   ]
  },
  {
   "cell_type": "code",
   "execution_count": 93,
   "id": "e821b77a",
   "metadata": {},
   "outputs": [],
   "source": [
    "col_names = []\n",
    "for i in ['Test','ODI','T20I','IPL']:\n",
    "    for j in pd.read_csv('Scores/bat_1413.csv').columns[1:]:\n",
    "        col_names.append('Bat_' + i + '_' + j)\n",
    "        \n",
    "bat_data = []\n",
    "\n",
    "for bat_path in bat_paths:  \n",
    "    bat_data.append(get_data(bat_path,13))\n",
    "    \n",
    "    \n",
    "df_bat = pd.DataFrame(bat_data, columns = col_names)\n",
    "df_bat.to_csv('Bat_Career.csv', index = False)"
   ]
  },
  {
   "cell_type": "markdown",
   "id": "75cc5cad",
   "metadata": {},
   "source": [
    "### 3. Combining the Dataset"
   ]
  },
  {
   "cell_type": "code",
   "execution_count": 94,
   "id": "0537c09b",
   "metadata": {},
   "outputs": [],
   "source": [
    "df_1 = pd.read_csv('players_record.csv')\n",
    "df_2 = pd.read_csv('Bat_Career.csv')\n",
    "df_3 = pd.read_csv('Ball_Career.csv')"
   ]
  },
  {
   "cell_type": "code",
   "execution_count": 101,
   "id": "d29f4291",
   "metadata": {},
   "outputs": [],
   "source": [
    "df = pd.DataFrame()\n",
    "df = pd.concat((df_1,df_2,df_3), axis = 1)\n",
    "\n",
    "del df['link']\n",
    "del df['bat_path']\n",
    "del df['bow_path']\n",
    "\n",
    "df.to_csv('data.csv', index = False)"
   ]
  },
  {
   "cell_type": "markdown",
   "id": "6c2b2541",
   "metadata": {},
   "source": [
    "### 4. Data Analysis"
   ]
  },
  {
   "cell_type": "code",
   "execution_count": 157,
   "id": "c71851d5",
   "metadata": {},
   "outputs": [
    {
     "data": {
      "text/html": [
       "<div>\n",
       "<style scoped>\n",
       "    .dataframe tbody tr th:only-of-type {\n",
       "        vertical-align: middle;\n",
       "    }\n",
       "\n",
       "    .dataframe tbody tr th {\n",
       "        vertical-align: top;\n",
       "    }\n",
       "\n",
       "    .dataframe thead th {\n",
       "        text-align: right;\n",
       "    }\n",
       "</style>\n",
       "<table border=\"1\" class=\"dataframe\">\n",
       "  <thead>\n",
       "    <tr style=\"text-align: right;\">\n",
       "      <th></th>\n",
       "      <th>name</th>\n",
       "      <th>team</th>\n",
       "      <th>date_of_birth</th>\n",
       "      <th>palce_of_birth</th>\n",
       "      <th>role</th>\n",
       "      <th>height</th>\n",
       "      <th>test_bat_rank</th>\n",
       "      <th>odi_bat_rank</th>\n",
       "      <th>t20_bat_rank</th>\n",
       "      <th>test_bow_rank</th>\n",
       "      <th>...</th>\n",
       "      <th>Bal_IPL_B</th>\n",
       "      <th>Bal_IPL_Runs</th>\n",
       "      <th>Bal_IPL_Wkts</th>\n",
       "      <th>Bal_IPL_BBI</th>\n",
       "      <th>Bal_IPL_BBM</th>\n",
       "      <th>Bal_IPL_Econ</th>\n",
       "      <th>Bal_IPL_Avg</th>\n",
       "      <th>Bal_IPL_SR</th>\n",
       "      <th>Bal_IPL_5W</th>\n",
       "      <th>Bal_IPL_10W</th>\n",
       "    </tr>\n",
       "  </thead>\n",
       "  <tbody>\n",
       "    <tr>\n",
       "      <th>84</th>\n",
       "      <td>Chris Gayle</td>\n",
       "      <td>West Indies</td>\n",
       "      <td>Sep 21, 1979 (43 years)</td>\n",
       "      <td>Kingston, Jamaica</td>\n",
       "      <td>Batsman</td>\n",
       "      <td>--</td>\n",
       "      <td>--</td>\n",
       "      <td>--</td>\n",
       "      <td>--</td>\n",
       "      <td>--</td>\n",
       "      <td>...</td>\n",
       "      <td>554</td>\n",
       "      <td>729</td>\n",
       "      <td>18</td>\n",
       "      <td>3/21</td>\n",
       "      <td>3/21</td>\n",
       "      <td>7.9</td>\n",
       "      <td>40.5</td>\n",
       "      <td>30.78</td>\n",
       "      <td>0</td>\n",
       "      <td>0</td>\n",
       "    </tr>\n",
       "  </tbody>\n",
       "</table>\n",
       "<p>1 rows × 112 columns</p>\n",
       "</div>"
      ],
      "text/plain": [
       "           name         team            date_of_birth     palce_of_birth  \\\n",
       "84  Chris Gayle  West Indies  Sep 21, 1979 (43 years)  Kingston, Jamaica   \n",
       "\n",
       "       role height test_bat_rank odi_bat_rank t20_bat_rank test_bow_rank  ...  \\\n",
       "84  Batsman     --            --           --           --            --  ...   \n",
       "\n",
       "   Bal_IPL_B Bal_IPL_Runs Bal_IPL_Wkts Bal_IPL_BBI Bal_IPL_BBM Bal_IPL_Econ  \\\n",
       "84       554          729           18        3/21        3/21          7.9   \n",
       "\n",
       "   Bal_IPL_Avg Bal_IPL_SR Bal_IPL_5W Bal_IPL_10W  \n",
       "84        40.5      30.78          0           0  \n",
       "\n",
       "[1 rows x 112 columns]"
      ]
     },
     "execution_count": 157,
     "metadata": {},
     "output_type": "execute_result"
    }
   ],
   "source": [
    "srt = []\n",
    "\n",
    "for i in df['Bat_ODI_M']:\n",
    "    if ( i != '-' ):\n",
    "        srt.append(int(i))\n",
    "        \n",
    "df[df['Bat_ODI_M'] == str(max(srt))]"
   ]
  },
  {
   "cell_type": "code",
   "execution_count": 158,
   "id": "68f3772b",
   "metadata": {},
   "outputs": [
    {
     "data": {
      "text/plain": [
       "array(['Virat Kohli', 'India', 'Nov 05, 1988 (34 years)', 'Delhi',\n",
       "       'Batsman', '5 ft 9 in (175 cm)', '11', '10', '13', '--', '--',\n",
       "       '--', '102', '173', '10', '8074', '254', '49.53', '14499', '55.69',\n",
       "       '27', '7', '28', '910', '24', '264', '255', '39', '12358', '183',\n",
       "       '57.21', '13317', '92.8', '43', '0', '64', '1161', '126', '115',\n",
       "       '107', '31', '4008', '122', '52.74', '2905', '137.97', '1', '0',\n",
       "       '37', '356', '117', '223', '215', '32', '6624', '113', '36.2',\n",
       "       '5129', '129.15', '5', '0', '44', '578', '218', '102', '11', '175',\n",
       "       '84', '0', '0/0', '0/0', '2.88', '0.0', '0.0', '0', '0', '264',\n",
       "       '48', '641', '665', '4', '1/15', '1/15', '6.22', '166.25',\n",
       "       '160.25', '0', '0', '115', '13', '152', '204', '4', '1/13', '1/13',\n",
       "       '8.05', '51.0', '38.0', '0', '0', '223', '26', '251', '368', '4',\n",
       "       '2/25', '2/25', '8.8', '92.0', '62.75', '0', '0'], dtype=object)"
      ]
     },
     "execution_count": 158,
     "metadata": {},
     "output_type": "execute_result"
    }
   ],
   "source": [
    "df.values[0]"
   ]
  },
  {
   "cell_type": "code",
   "execution_count": null,
   "id": "05e9eed5",
   "metadata": {},
   "outputs": [],
   "source": [
    "[]"
   ]
  }
 ],
 "metadata": {
  "kernelspec": {
   "display_name": "Python 3 (ipykernel)",
   "language": "python",
   "name": "python3"
  },
  "language_info": {
   "codemirror_mode": {
    "name": "ipython",
    "version": 3
   },
   "file_extension": ".py",
   "mimetype": "text/x-python",
   "name": "python",
   "nbconvert_exporter": "python",
   "pygments_lexer": "ipython3",
   "version": "3.9.7"
  }
 },
 "nbformat": 4,
 "nbformat_minor": 5
}
