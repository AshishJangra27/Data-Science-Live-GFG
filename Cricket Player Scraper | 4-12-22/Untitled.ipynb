{
 "cells": [
  {
   "cell_type": "code",
   "execution_count": 1,
   "id": "14bf0e67",
   "metadata": {},
   "outputs": [],
   "source": [
    "import requests\n",
    "import pandas as pd\n",
    "from tqdm import tqdm\n",
    "from bs4 import BeautifulSoup\n",
    "\n",
    "link = 'https://www.cricbuzz.com/cricket-team'\n",
    "res = requests.get(link)\n",
    "soup = BeautifulSoup(res.content, 'html.parser')\n",
    "\n",
    "sp = soup.find('div',class_ = 'cb-col cb-col-67 cb-nws-lft-col')"
   ]
  },
  {
   "cell_type": "markdown",
   "id": "4d7151e4",
   "metadata": {},
   "source": [
    "### 1. Scraper Team Links"
   ]
  },
  {
   "cell_type": "code",
   "execution_count": 2,
   "id": "39d4c6ac",
   "metadata": {},
   "outputs": [],
   "source": [
    "data = []\n",
    "\n",
    "for teams in sp.find_all('div', class_ = 'cb-col cb-col-50 cb-team-item cb-lst-itm cb-team-lft-item'):\n",
    "    team_name = teams.find('h2').text.strip()\n",
    "    team_link = 'https://www.cricbuzz.com' + teams.find('h2').find('a').get('href') + '/players'\n",
    "    data.append([team_name,team_link])\n",
    "    \n",
    "for teams in sp.find_all('div', class_ = 'cb-col cb-col-50 cb-team-item cb-lst-itm cb-team-rght-item'):\n",
    "    team_name = teams.find('h2').text.strip()\n",
    "    team_link = 'https://www.cricbuzz.com' + teams.find('h2').find('a').get('href') + '/players'\n",
    "    data.append([team_name,team_link])"
   ]
  },
  {
   "cell_type": "markdown",
   "id": "a1d0ea6f",
   "metadata": {},
   "source": [
    "### 2. Scrape Player Links"
   ]
  },
  {
   "cell_type": "code",
   "execution_count": 3,
   "id": "66a06f94",
   "metadata": {},
   "outputs": [
    {
     "name": "stderr",
     "output_type": "stream",
     "text": [
      "100%|███████████████████████████████████████████| 37/37 [00:18<00:00,  1.96it/s]\n"
     ]
    }
   ],
   "source": [
    "player_data = []\n",
    "\n",
    "for team_name, team_link in tqdm(data):\n",
    "    \n",
    "    soup = BeautifulSoup(requests.get(team_link).content, 'html.parser')\n",
    "    sp = soup.find('div', class_ = 'cb-col-67 cb-col cb-left cb-top-zero')\n",
    "    \n",
    "    for player in sp.find_all('a', class_ = 'cb-col cb-col-50'):\n",
    "        player_name = player.text.strip()\n",
    "        player_link = 'https://www.cricbuzz.com' + player.get('href')\n",
    "        \n",
    "        player_data.append([player_name,team_name,player_link])"
   ]
  },
  {
   "cell_type": "markdown",
   "id": "56c40192",
   "metadata": {},
   "source": [
    "### 3. Scraper Players Data"
   ]
  },
  {
   "cell_type": "code",
   "execution_count": 4,
   "id": "242cfdcd",
   "metadata": {},
   "outputs": [
    {
     "name": "stderr",
     "output_type": "stream",
     "text": [
      " 29%|████████████                             | 133/453 [00:48<01:58,  2.69it/s]"
     ]
    },
    {
     "name": "stdout",
     "output_type": "stream",
     "text": [
      "Loa Nou https://www.cricbuzz.com/profiles/10425/loa-nou\n"
     ]
    },
    {
     "name": "stderr",
     "output_type": "stream",
     "text": [
      " 30%|████████████▍                            | 137/453 [00:49<01:47,  2.94it/s]"
     ]
    },
    {
     "name": "stdout",
     "output_type": "stream",
     "text": [
      "Arun Poulose https://www.cricbuzz.com/profiles/10454/arun-poulose\n"
     ]
    },
    {
     "name": "stderr",
     "output_type": "stream",
     "text": [
      " 37%|███████████████▎                         | 169/453 [01:00<01:31,  3.11it/s]"
     ]
    },
    {
     "name": "stdout",
     "output_type": "stream",
     "text": [
      "Zeeshan Siddiqi https://www.cricbuzz.com/profiles/8027/zeeshan-siddiqi\n"
     ]
    },
    {
     "name": "stderr",
     "output_type": "stream",
     "text": [
      " 85%|██████████████████████████████████▉      | 386/453 [02:59<11:29, 10.30s/it]"
     ]
    },
    {
     "name": "stdout",
     "output_type": "stream",
     "text": [
      "Mohammad Naveed https://www.cricbuzz.com/profiles/9832/mohammad-naveed\n"
     ]
    },
    {
     "name": "stderr",
     "output_type": "stream",
     "text": [
      "100%|█████████████████████████████████████████| 453/453 [03:28<00:00,  2.17it/s]\n"
     ]
    }
   ],
   "source": [
    "data = []\n",
    "\n",
    "for player_name,team_name,player_link in tqdm(player_data):\n",
    "    \n",
    "    basic_info = []\n",
    "    \n",
    "    try:\n",
    "        soup = BeautifulSoup(requests.get(player_link).content, 'html.parser')\n",
    "        sp = soup.find('div',class_ = 'cb-col cb-col-33 text-black')\n",
    "        player_height = sp.find('div', class_ = 'cb-col cb-col-60').text.strip()\n",
    "        basic_info.append(player_name)\n",
    "        basic_info.append(team_name)\n",
    "        basic_info.append(player_height)\n",
    "        for i in [player.text.strip() for player in sp.find_all('div', class_ = 'cb-col cb-col-60 cb-lst-itm-sm')][0:3]:\n",
    "            basic_info.append(i)\n",
    "        # Scraping Teams\n",
    "        basic_info.append([player.text.strip() for player in sp.find_all('div', class_ = 'cb-col cb-col-60 cb-lst-itm-sm')][-1]) \n",
    "\n",
    "        basic_info += [i.text.strip() for i in soup.find_all('div', class_ = 'cb-col cb-col-25 cb-plyr-rank text-right')]\n",
    "        \n",
    "        data.append(basic_info)\n",
    "        \n",
    "    except:\n",
    "        print(player_name, player_link)\n",
    "        \n",
    "        pass"
   ]
  },
  {
   "cell_type": "markdown",
   "id": "a6b923a4",
   "metadata": {},
   "source": [
    "### 4. Saving the CSV"
   ]
  },
  {
   "cell_type": "code",
   "execution_count": 12,
   "id": "552fcb42",
   "metadata": {},
   "outputs": [],
   "source": [
    "df = pd.DataFrame(data, columns = ['name','team','height','date_of_birth','birth_place','role','teams',\n",
    "                                   'bat_test','bat_odi','bat_t20','bow_test','bow_odi','bow_t20'])\n",
    "\n",
    "df.to_csv('players.csv', index = False)"
   ]
  },
  {
   "cell_type": "code",
   "execution_count": null,
   "id": "7aa32654",
   "metadata": {},
   "outputs": [],
   "source": []
  }
 ],
 "metadata": {
  "kernelspec": {
   "display_name": "Python 3 (ipykernel)",
   "language": "python",
   "name": "python3"
  },
  "language_info": {
   "codemirror_mode": {
    "name": "ipython",
    "version": 3
   },
   "file_extension": ".py",
   "mimetype": "text/x-python",
   "name": "python",
   "nbconvert_exporter": "python",
   "pygments_lexer": "ipython3",
   "version": "3.9.7"
  }
 },
 "nbformat": 4,
 "nbformat_minor": 5
}
